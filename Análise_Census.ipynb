{
  "nbformat": 4,
  "nbformat_minor": 0,
  "metadata": {
    "colab": {
      "name": "Análise_Census.ipynb",
      "provenance": [],
      "collapsed_sections": [],
      "toc_visible": true,
      "authorship_tag": "ABX9TyNaMe7yHYwLpNiitOtvP6W1",
      "include_colab_link": true
    },
    "kernelspec": {
      "name": "python3",
      "display_name": "Python 3"
    }
  },
  "cells": [
    {
      "cell_type": "markdown",
      "metadata": {
        "id": "view-in-github",
        "colab_type": "text"
      },
      "source": [
        "<a href=\"https://colab.research.google.com/github/samuel-guedes/data_science/blob/master/An%C3%A1lise_Census.ipynb\" target=\"_parent\"><img src=\"https://colab.research.google.com/assets/colab-badge.svg\" alt=\"Open In Colab\"/></a>"
      ]
    },
    {
      "cell_type": "markdown",
      "metadata": {
        "id": "mcy256oQJ2_K",
        "colab_type": "text"
      },
      "source": [
        "# **Análise de Crédito - Classificação**\n",
        "\n",
        "<br>\n",
        "Este é meu primeiro projeto que estou criando acompanhando o Curso **Machine Learning e Data Science com Python** (Jones Granatyr: disponível em [Udemy](https://https://www.udemy.com/course/machine-learning-e-data-science-com-python-y/)).\n",
        "\n",
        "A intenção deste primeiro projeto é compartilhar minha evolução em análise de dados partindo do zero e praticar documentação da análise com storytelling. \n",
        "Este primeiro projeto trata-se de estudo de predição por Classificação para determinar se uma pessoa ganha mais de 50 mil por ano. A  [base de dados](https://archive.ics.uci.edu/ml/datasets/Adult)  foi baixada do repositório de Machine Learning da [UCI](https://archive.ics.uci.edu/ml/index.php)  (University of California, Irvine).\n",
        "\n",
        "<br><br>\n",
        " \n",
        " <br><br>\n",
        " <p align=center><img src= \"https://bit.ly/3go4sDR\" width= \"80%\"></p>\n",
        "\n",
        "<br><br>\n",
        "\n"
      ]
    },
    {
      "cell_type": "markdown",
      "metadata": {
        "id": "f0rsymEYAYV4",
        "colab_type": "text"
      },
      "source": [
        "### **Pré Processamento**"
      ]
    },
    {
      "cell_type": "code",
      "metadata": {
        "id": "y_7ZwD3w9-Qg",
        "colab_type": "code",
        "colab": {}
      },
      "source": [
        "#Importandos os pacotes necessários\n",
        "\n",
        "import pandas as pd\n",
        "import numpy as np\n",
        "\n",
        "from sklearn.preprocessing import  LabelEncoder\n",
        "from sklearn.preprocessing import OneHotEncoder\n",
        "from sklearn.compose import ColumnTransformer\n",
        "from sklearn.preprocessing import StandardScaler\n",
        "from sklearn.model_selection import train_test_split\n"
      ],
      "execution_count": null,
      "outputs": []
    },
    {
      "cell_type": "code",
      "metadata": {
        "id": "jEjAHzN5-eJn",
        "colab_type": "code",
        "colab": {
          "base_uri": "https://localhost:8080/",
          "height": 289
        },
        "outputId": "a08901f4-114a-4a58-8fee-2a822f68d8d2"
      },
      "source": [
        "base = pd.DataFrame(pd.read_csv('census.csv'))\n",
        "base.head()"
      ],
      "execution_count": null,
      "outputs": [
        {
          "output_type": "execute_result",
          "data": {
            "text/html": [
              "<div>\n",
              "<style scoped>\n",
              "    .dataframe tbody tr th:only-of-type {\n",
              "        vertical-align: middle;\n",
              "    }\n",
              "\n",
              "    .dataframe tbody tr th {\n",
              "        vertical-align: top;\n",
              "    }\n",
              "\n",
              "    .dataframe thead th {\n",
              "        text-align: right;\n",
              "    }\n",
              "</style>\n",
              "<table border=\"1\" class=\"dataframe\">\n",
              "  <thead>\n",
              "    <tr style=\"text-align: right;\">\n",
              "      <th></th>\n",
              "      <th>age</th>\n",
              "      <th>workclass</th>\n",
              "      <th>final-weight</th>\n",
              "      <th>education</th>\n",
              "      <th>education-num</th>\n",
              "      <th>marital-status</th>\n",
              "      <th>occupation</th>\n",
              "      <th>relationship</th>\n",
              "      <th>race</th>\n",
              "      <th>sex</th>\n",
              "      <th>capital-gain</th>\n",
              "      <th>capital-loos</th>\n",
              "      <th>hour-per-week</th>\n",
              "      <th>native-country</th>\n",
              "      <th>income</th>\n",
              "    </tr>\n",
              "  </thead>\n",
              "  <tbody>\n",
              "    <tr>\n",
              "      <th>0</th>\n",
              "      <td>39</td>\n",
              "      <td>State-gov</td>\n",
              "      <td>77516</td>\n",
              "      <td>Bachelors</td>\n",
              "      <td>13</td>\n",
              "      <td>Never-married</td>\n",
              "      <td>Adm-clerical</td>\n",
              "      <td>Not-in-family</td>\n",
              "      <td>White</td>\n",
              "      <td>Male</td>\n",
              "      <td>2174</td>\n",
              "      <td>0</td>\n",
              "      <td>40</td>\n",
              "      <td>United-States</td>\n",
              "      <td>&lt;=50K</td>\n",
              "    </tr>\n",
              "    <tr>\n",
              "      <th>1</th>\n",
              "      <td>50</td>\n",
              "      <td>Self-emp-not-inc</td>\n",
              "      <td>83311</td>\n",
              "      <td>Bachelors</td>\n",
              "      <td>13</td>\n",
              "      <td>Married-civ-spouse</td>\n",
              "      <td>Exec-managerial</td>\n",
              "      <td>Husband</td>\n",
              "      <td>White</td>\n",
              "      <td>Male</td>\n",
              "      <td>0</td>\n",
              "      <td>0</td>\n",
              "      <td>13</td>\n",
              "      <td>United-States</td>\n",
              "      <td>&lt;=50K</td>\n",
              "    </tr>\n",
              "    <tr>\n",
              "      <th>2</th>\n",
              "      <td>38</td>\n",
              "      <td>Private</td>\n",
              "      <td>215646</td>\n",
              "      <td>HS-grad</td>\n",
              "      <td>9</td>\n",
              "      <td>Divorced</td>\n",
              "      <td>Handlers-cleaners</td>\n",
              "      <td>Not-in-family</td>\n",
              "      <td>White</td>\n",
              "      <td>Male</td>\n",
              "      <td>0</td>\n",
              "      <td>0</td>\n",
              "      <td>40</td>\n",
              "      <td>United-States</td>\n",
              "      <td>&lt;=50K</td>\n",
              "    </tr>\n",
              "    <tr>\n",
              "      <th>3</th>\n",
              "      <td>53</td>\n",
              "      <td>Private</td>\n",
              "      <td>234721</td>\n",
              "      <td>11th</td>\n",
              "      <td>7</td>\n",
              "      <td>Married-civ-spouse</td>\n",
              "      <td>Handlers-cleaners</td>\n",
              "      <td>Husband</td>\n",
              "      <td>Black</td>\n",
              "      <td>Male</td>\n",
              "      <td>0</td>\n",
              "      <td>0</td>\n",
              "      <td>40</td>\n",
              "      <td>United-States</td>\n",
              "      <td>&lt;=50K</td>\n",
              "    </tr>\n",
              "    <tr>\n",
              "      <th>4</th>\n",
              "      <td>28</td>\n",
              "      <td>Private</td>\n",
              "      <td>338409</td>\n",
              "      <td>Bachelors</td>\n",
              "      <td>13</td>\n",
              "      <td>Married-civ-spouse</td>\n",
              "      <td>Prof-specialty</td>\n",
              "      <td>Wife</td>\n",
              "      <td>Black</td>\n",
              "      <td>Female</td>\n",
              "      <td>0</td>\n",
              "      <td>0</td>\n",
              "      <td>40</td>\n",
              "      <td>Cuba</td>\n",
              "      <td>&lt;=50K</td>\n",
              "    </tr>\n",
              "  </tbody>\n",
              "</table>\n",
              "</div>"
            ],
            "text/plain": [
              "   age          workclass  final-weight  ... hour-per-week  native-country  income\n",
              "0   39          State-gov         77516  ...            40   United-States   <=50K\n",
              "1   50   Self-emp-not-inc         83311  ...            13   United-States   <=50K\n",
              "2   38            Private        215646  ...            40   United-States   <=50K\n",
              "3   53            Private        234721  ...            40   United-States   <=50K\n",
              "4   28            Private        338409  ...            40            Cuba   <=50K\n",
              "\n",
              "[5 rows x 15 columns]"
            ]
          },
          "metadata": {
            "tags": []
          },
          "execution_count": 193
        }
      ]
    },
    {
      "cell_type": "code",
      "metadata": {
        "id": "meOygoFa-2js",
        "colab_type": "code",
        "colab": {
          "base_uri": "https://localhost:8080/",
          "height": 289
        },
        "outputId": "fb81fb81-4854-4cff-df21-788a88d27235"
      },
      "source": [
        "base.dtypes"
      ],
      "execution_count": null,
      "outputs": [
        {
          "output_type": "execute_result",
          "data": {
            "text/plain": [
              "age                int64\n",
              "workclass         object\n",
              "final-weight       int64\n",
              "education         object\n",
              "education-num      int64\n",
              "marital-status    object\n",
              "occupation        object\n",
              "relationship      object\n",
              "race              object\n",
              "sex               object\n",
              "capital-gain       int64\n",
              "capital-loos       int64\n",
              "hour-per-week      int64\n",
              "native-country    object\n",
              "income            object\n",
              "dtype: object"
            ]
          },
          "metadata": {
            "tags": []
          },
          "execution_count": 194
        }
      ]
    },
    {
      "cell_type": "code",
      "metadata": {
        "id": "v_3eBYxVATmt",
        "colab_type": "code",
        "colab": {
          "base_uri": "https://localhost:8080/",
          "height": 204
        },
        "outputId": "4fa383fe-2057-48c9-ba86-95de1d2009d9"
      },
      "source": [
        "#Separando as variáveis preditoras e classificação\n",
        "previsores = base.iloc[:, 0:14].values\n",
        "classe = base.iloc[:, 14].values\n",
        "print(\"Previsores:\\n\",previsores, \"\\n\\n\",\"Classe:\\n\",classe)\n"
      ],
      "execution_count": null,
      "outputs": [
        {
          "output_type": "stream",
          "text": [
            "Previsores:\n",
            " [[39 ' State-gov' 77516 ... 0 40 ' United-States']\n",
            " [50 ' Self-emp-not-inc' 83311 ... 0 13 ' United-States']\n",
            " [38 ' Private' 215646 ... 0 40 ' United-States']\n",
            " ...\n",
            " [58 ' Private' 151910 ... 0 40 ' United-States']\n",
            " [22 ' Private' 201490 ... 0 20 ' United-States']\n",
            " [52 ' Self-emp-inc' 287927 ... 0 40 ' United-States']] \n",
            "\n",
            " Classe:\n",
            " [' <=50K' ' <=50K' ' <=50K' ... ' <=50K' ' <=50K' ' >50K']\n"
          ],
          "name": "stdout"
        }
      ]
    },
    {
      "cell_type": "code",
      "metadata": {
        "id": "knOZi3nuBGvN",
        "colab_type": "code",
        "colab": {}
      },
      "source": [
        "# transformando variável Nominal em Discreta\n",
        "\n",
        "labelencoder_previsores = LabelEncoder()\n",
        "onehotencorder = ColumnTransformer(transformers=[(\"OneHot\", OneHotEncoder(), [1,3,5,6,7,8,9,13])],remainder='passthrough')\n",
        "\n",
        "#Unpivot das colunas transformadas em Variáveis Discretas\n",
        "previsores = onehotencorder.fit_transform(previsores).toarray()\n",
        "\n",
        "labelencoder_classe = LabelEncoder()\n",
        "classe = labelencoder_classe.fit_transform(classe)"
      ],
      "execution_count": null,
      "outputs": []
    },
    {
      "cell_type": "code",
      "metadata": {
        "id": "qF_hlkj0nqCM",
        "colab_type": "code",
        "colab": {
          "base_uri": "https://localhost:8080/",
          "height": 204
        },
        "outputId": "0ac96cc7-d5e6-4afc-82bc-3202e5e41591"
      },
      "source": [
        "print(\"Previsores:\\n\",previsores, \"\\n\\n\",\"Classe:\\n\",classe)"
      ],
      "execution_count": null,
      "outputs": [
        {
          "output_type": "stream",
          "text": [
            "Previsores:\n",
            " [[0.0000e+00 0.0000e+00 0.0000e+00 ... 2.1740e+03 0.0000e+00 4.0000e+01]\n",
            " [0.0000e+00 0.0000e+00 0.0000e+00 ... 0.0000e+00 0.0000e+00 1.3000e+01]\n",
            " [0.0000e+00 0.0000e+00 0.0000e+00 ... 0.0000e+00 0.0000e+00 4.0000e+01]\n",
            " ...\n",
            " [0.0000e+00 0.0000e+00 0.0000e+00 ... 0.0000e+00 0.0000e+00 4.0000e+01]\n",
            " [0.0000e+00 0.0000e+00 0.0000e+00 ... 0.0000e+00 0.0000e+00 2.0000e+01]\n",
            " [0.0000e+00 0.0000e+00 0.0000e+00 ... 1.5024e+04 0.0000e+00 4.0000e+01]] \n",
            "\n",
            " Classe:\n",
            " [0 0 0 ... 0 0 1]\n"
          ],
          "name": "stdout"
        }
      ]
    },
    {
      "cell_type": "code",
      "metadata": {
        "id": "ZkhUhdW-1Op5",
        "colab_type": "code",
        "colab": {
          "base_uri": "https://localhost:8080/",
          "height": 238
        },
        "outputId": "de4a639f-f28a-4944-f55f-3ba8be009006"
      },
      "source": [
        "escaler = StandardScaler()\n",
        "previsores = escaler.fit_transform(previsores)\n",
        "previsores"
      ],
      "execution_count": null,
      "outputs": [
        {
          "output_type": "execute_result",
          "data": {
            "text/plain": [
              "array([[-0.2444502 , -0.17429511, -0.26209736, ...,  0.1484529 ,\n",
              "        -0.21665953, -0.03542945],\n",
              "       [-0.2444502 , -0.17429511, -0.26209736, ..., -0.14592048,\n",
              "        -0.21665953, -2.22215312],\n",
              "       [-0.2444502 , -0.17429511, -0.26209736, ..., -0.14592048,\n",
              "        -0.21665953, -0.03542945],\n",
              "       ...,\n",
              "       [-0.2444502 , -0.17429511, -0.26209736, ..., -0.14592048,\n",
              "        -0.21665953, -0.03542945],\n",
              "       [-0.2444502 , -0.17429511, -0.26209736, ..., -0.14592048,\n",
              "        -0.21665953, -1.65522476],\n",
              "       [-0.2444502 , -0.17429511, -0.26209736, ...,  1.88842434,\n",
              "        -0.21665953, -0.03542945]])"
            ]
          },
          "metadata": {
            "tags": []
          },
          "execution_count": 198
        }
      ]
    },
    {
      "cell_type": "code",
      "metadata": {
        "id": "a_FbYoQn4F_J",
        "colab_type": "code",
        "colab": {
          "base_uri": "https://localhost:8080/",
          "height": 34
        },
        "outputId": "4f5aa01c-ddb8-47bd-9c1d-10a9aaacf8e7"
      },
      "source": [
        "#Separando a base de dados entre Treinamento e Teste\n",
        "\n",
        "previsores_treinamento, previsores_teste, classe_treinamento,classe_teste = train_test_split(previsores, classe, test_size=0.15, random_state=0)\n",
        "print(previsores_treinamento.shape,previsores_teste.shape, classe_treinamento.shape, classe_teste.shape)"
      ],
      "execution_count": null,
      "outputs": [
        {
          "output_type": "stream",
          "text": [
            "(27676, 108) (4885, 108) (27676,) (4885,)\n"
          ],
          "name": "stdout"
        }
      ]
    },
    {
      "cell_type": "markdown",
      "metadata": {
        "id": "UHygrc535OR6",
        "colab_type": "text"
      },
      "source": [
        "### **Aprendizagem**\n",
        "**Em andamento*\n",
        "<br><br>\n",
        "### **Regressão**\n",
        "**Em andamento*\n",
        "<br><br>\n",
        "### **Máquina de Vetores de Suporte (SVM)**\n",
        "**Em andamento*\n",
        "<br><br>\n",
        "### **Redes Neurais Artificiais**\n",
        "**Em andamento*\n",
        "<br>"
      ]
    }
  ]
}